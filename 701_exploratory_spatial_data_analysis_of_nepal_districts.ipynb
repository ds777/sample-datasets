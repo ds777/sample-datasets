{
  "nbformat": 4,
  "nbformat_minor": 0,
  "metadata": {
    "kernelspec": {
      "display_name": "Python 3",
      "language": "python",
      "name": "python3"
    },
    "language_info": {
      "codemirror_mode": {
        "name": "ipython",
        "version": 3
      },
      "file_extension": ".py",
      "mimetype": "text/x-python",
      "name": "python",
      "nbconvert_exporter": "python",
      "pygments_lexer": "ipython3",
      "version": "3.7.3"
    },
    "colab": {
      "name": "701-exploratory-spatial-data-analysis-of-nepal-districts.ipynb",
      "provenance": [],
      "collapsed_sections": [],
      "toc_visible": true,
      "include_colab_link": true
    }
  },
  "cells": [
    {
      "cell_type": "markdown",
      "metadata": {
        "id": "view-in-github",
        "colab_type": "text"
      },
      "source": [
        "<a href=\"https://colab.research.google.com/github/ds777/sample-datasets/blob/master/701_exploratory_spatial_data_analysis_of_nepal_districts.ipynb\" target=\"_parent\"><img src=\"https://colab.research.google.com/assets/colab-badge.svg\" alt=\"Open In Colab\"/></a>"
      ]
    },
    {
      "cell_type": "markdown",
      "metadata": {
        "id": "gQQXLpv0bW48",
        "colab_type": "text"
      },
      "source": [
        "# Exploratory spatial data analysis (ESDA) of Nepal districts"
      ]
    },
    {
      "cell_type": "markdown",
      "metadata": {
        "id": "2w2i9A11xbtY",
        "colab_type": "text"
      },
      "source": [
        "## Install libraries"
      ]
    },
    {
      "cell_type": "code",
      "metadata": {
        "id": "mMqi_v_toYMF",
        "colab_type": "code",
        "colab": {}
      },
      "source": [
        "!pip install -q geopandas\n",
        "!pip install -q libpysal\n",
        "!pip install -q mapclassify\n",
        "!pip install -q splot\n",
        "!pip install -q legendgram\n",
        "!pip install -q esda\n",
        "!pip install -q inequality\n",
        "!pip install -q giddy\n",
        "!pip install -q ipywidgets "
      ],
      "execution_count": 0,
      "outputs": []
    },
    {
      "cell_type": "markdown",
      "metadata": {
        "id": "aod9ThO7bhzQ",
        "colab_type": "text"
      },
      "source": [
        "## Load libraries"
      ]
    },
    {
      "cell_type": "code",
      "metadata": {
        "id": "QP-noqLtbW49",
        "colab_type": "code",
        "colab": {}
      },
      "source": [
        "import pandas as pd\n",
        "import geopandas as gpd\n",
        "import seaborn as sns\n",
        "import numpy as np\n",
        "import matplotlib.pyplot as plt\n",
        "%matplotlib inline\n",
        "\n",
        "from libpysal import examples\n",
        "from libpysal.weights.contiguity import Queen\n",
        "from libpysal import weights\n",
        "\n",
        "\n",
        "from giddy.directional import Rose\n",
        "\n",
        "import splot\n",
        "from splot.esda import plot_moran\n",
        "from splot.esda import moran_scatterplot\n",
        "from splot.esda import lisa_cluster\n",
        "from splot.esda import plot_local_autocorrelation\n",
        "from splot.esda import plot_moran_bv_simulation, plot_moran_bv\n",
        "\n",
        "import esda\n",
        "from esda.moran import Moran\n",
        "from esda.moran import Moran_Local\n",
        "from esda.moran import Moran_BV, Moran_Local_BV\n",
        "\n",
        "\n",
        "from ipywidgets import interact, fixed\n",
        "import ipywidgets as widgets\n",
        "\n",
        "from scipy.stats.kde import gaussian_kde\n",
        "\n",
        "import os\n",
        "\n",
        "#plt.style.use('ggplot')\n",
        "#plt.style.use('seaborn-whitegrid')\n",
        "plt.style.use('seaborn-darkgrid')\n",
        "#plt.style.use('seaborn-dark')\n",
        "#plt.style.use('bmh')"
      ],
      "execution_count": 0,
      "outputs": []
    },
    {
      "cell_type": "markdown",
      "metadata": {
        "colab_type": "text",
        "id": "K4UzzO_y8Vtp"
      },
      "source": [
        "## Data prepration"
      ]
    },
    {
      "cell_type": "markdown",
      "metadata": {
        "id": "j5w6na-08MVQ",
        "colab_type": "text"
      },
      "source": [
        "### Import datasets"
      ]
    },
    {
      "cell_type": "code",
      "metadata": {
        "id": "MKmQZHIaBZSt",
        "colab_type": "code",
        "outputId": "09581b8f-dd0e-4af6-bc8e-7f7f87593f43",
        "colab": {
          "base_uri": "https://localhost:8080/",
          "height": 173
        }
      },
      "source": [
        "# Clone entire Github repository\n",
        "!git clone -l -s git://github.com/ds777/sample-datasets.git cloned-repo\n",
        "%cd cloned-repo\n",
        "# Show contents of repo\n",
        "#!ls"
      ],
      "execution_count": 37,
      "outputs": [
        {
          "output_type": "stream",
          "text": [
            "Cloning into 'cloned-repo'...\n",
            "warning: --local is ignored\n",
            "remote: Enumerating objects: 31, done.\u001b[K\n",
            "remote: Counting objects:   3% (1/31)\u001b[K\rremote: Counting objects:   6% (2/31)\u001b[K\rremote: Counting objects:   9% (3/31)\u001b[K\rremote: Counting objects:  12% (4/31)\u001b[K\rremote: Counting objects:  16% (5/31)\u001b[K\rremote: Counting objects:  19% (6/31)\u001b[K\rremote: Counting objects:  22% (7/31)\u001b[K\rremote: Counting objects:  25% (8/31)\u001b[K\rremote: Counting objects:  29% (9/31)\u001b[K\rremote: Counting objects:  32% (10/31)\u001b[K\rremote: Counting objects:  35% (11/31)\u001b[K\rremote: Counting objects:  38% (12/31)\u001b[K\rremote: Counting objects:  41% (13/31)\u001b[K\rremote: Counting objects:  45% (14/31)\u001b[K\rremote: Counting objects:  48% (15/31)\u001b[K\rremote: Counting objects:  51% (16/31)\u001b[K\rremote: Counting objects:  54% (17/31)\u001b[K\rremote: Counting objects:  58% (18/31)\u001b[K\rremote: Counting objects:  61% (19/31)\u001b[K\rremote: Counting objects:  64% (20/31)\u001b[K\rremote: Counting objects:  67% (21/31)\u001b[K\rremote: Counting objects:  70% (22/31)\u001b[K\rremote: Counting objects:  74% (23/31)\u001b[K\rremote: Counting objects:  77% (24/31)\u001b[K\rremote: Counting objects:  80% (25/31)\u001b[K\rremote: Counting objects:  83% (26/31)\u001b[K\rremote: Counting objects:  87% (27/31)\u001b[K\rremote: Counting objects:  90% (28/31)\u001b[K\rremote: Counting objects:  93% (29/31)\u001b[K\rremote: Counting objects:  96% (30/31)\u001b[K\rremote: Counting objects: 100% (31/31)\u001b[K\rremote: Counting objects: 100% (31/31), done.\u001b[K\n",
            "remote: Compressing objects: 100% (26/26), done.\u001b[K\n",
            "remote: Total 115 (delta 13), reused 18 (delta 5), pack-reused 84\u001b[K\n",
            "Receiving objects: 100% (115/115), 80.48 MiB | 35.57 MiB/s, done.\n",
            "Resolving deltas: 100% (42/42), done.\n",
            "/content/cloned-repo/cloned-repo/cloned-repo\n"
          ],
          "name": "stdout"
        }
      ]
    },
    {
      "cell_type": "code",
      "metadata": {
        "id": "neJuV28ICFlP",
        "colab_type": "code",
        "outputId": "6196f348-d17e-4a45-ed35-2dc98f6e850f",
        "colab": {
          "base_uri": "https://localhost:8080/",
          "height": 1000
        }
      },
      "source": [
        "# read shapefile \n",
        "df = gpd.read_file(\"NapalAid.shp\")\n",
        "df"
      ],
      "execution_count": 38,
      "outputs": [
        {
          "output_type": "execute_result",
          "data": {
            "text/html": [
              "<div>\n",
              "<style scoped>\n",
              "    .dataframe tbody tr th:only-of-type {\n",
              "        vertical-align: middle;\n",
              "    }\n",
              "\n",
              "    .dataframe tbody tr th {\n",
              "        vertical-align: top;\n",
              "    }\n",
              "\n",
              "    .dataframe thead th {\n",
              "        text-align: right;\n",
              "    }\n",
              "</style>\n",
              "<table border=\"1\" class=\"dataframe\">\n",
              "  <thead>\n",
              "    <tr style=\"text-align: right;\">\n",
              "      <th></th>\n",
              "      <th>id</th>\n",
              "      <th>id_1</th>\n",
              "      <th>name_1</th>\n",
              "      <th>id_2</th>\n",
              "      <th>name_2</th>\n",
              "      <th>id_3</th>\n",
              "      <th>district</th>\n",
              "      <th>depecprov</th>\n",
              "      <th>povindex</th>\n",
              "      <th>pcinc</th>\n",
              "      <th>pcincppp</th>\n",
              "      <th>pcincmp</th>\n",
              "      <th>malkids</th>\n",
              "      <th>lif40</th>\n",
              "      <th>nosafh20</th>\n",
              "      <th>population</th>\n",
              "      <th>boyg1_5</th>\n",
              "      <th>girlg1_5</th>\n",
              "      <th>kids1_5</th>\n",
              "      <th>schoolcnt</th>\n",
              "      <th>schlpkid</th>\n",
              "      <th>schlppop</th>\n",
              "      <th>ad_illit</th>\n",
              "      <th>ad_ilgt50</th>\n",
              "      <th>lon</th>\n",
              "      <th>lat</th>\n",
              "      <th>geometry</th>\n",
              "    </tr>\n",
              "  </thead>\n",
              "  <tbody>\n",
              "    <tr>\n",
              "      <th>0</th>\n",
              "      <td>1.0</td>\n",
              "      <td>0.0</td>\n",
              "      <td>None</td>\n",
              "      <td>8.0</td>\n",
              "      <td>Dhaualagiri</td>\n",
              "      <td>60.0</td>\n",
              "      <td>Baglung</td>\n",
              "      <td>27.01</td>\n",
              "      <td>27.33</td>\n",
              "      <td>354.0</td>\n",
              "      <td>573.0</td>\n",
              "      <td>25613.0</td>\n",
              "      <td>42.9</td>\n",
              "      <td>8.52</td>\n",
              "      <td>11.12</td>\n",
              "      <td>250065.0</td>\n",
              "      <td>29144.0</td>\n",
              "      <td>31123.0</td>\n",
              "      <td>60267.0</td>\n",
              "      <td>554.0</td>\n",
              "      <td>9.1924</td>\n",
              "      <td>2.215424</td>\n",
              "      <td>34.46</td>\n",
              "      <td>0.0</td>\n",
              "      <td>83.252444</td>\n",
              "      <td>28.347313</td>\n",
              "      <td>POLYGON ((83.10834 28.62020, 83.10560 28.60976...</td>\n",
              "    </tr>\n",
              "    <tr>\n",
              "      <th>1</th>\n",
              "      <td>2.0</td>\n",
              "      <td>0.0</td>\n",
              "      <td>None</td>\n",
              "      <td>8.0</td>\n",
              "      <td>Dhaualagiri</td>\n",
              "      <td>61.0</td>\n",
              "      <td>Mustang</td>\n",
              "      <td>31.51</td>\n",
              "      <td>31.16</td>\n",
              "      <td>1189.0</td>\n",
              "      <td>1922.0</td>\n",
              "      <td>85957.0</td>\n",
              "      <td>54.7</td>\n",
              "      <td>12.02</td>\n",
              "      <td>8.32</td>\n",
              "      <td>11585.0</td>\n",
              "      <td>784.0</td>\n",
              "      <td>806.0</td>\n",
              "      <td>1590.0</td>\n",
              "      <td>70.0</td>\n",
              "      <td>44.0252</td>\n",
              "      <td>6.042296</td>\n",
              "      <td>38.65</td>\n",
              "      <td>0.0</td>\n",
              "      <td>83.859902</td>\n",
              "      <td>28.981165</td>\n",
              "      <td>POLYGON ((83.99726 29.31675, 84.00000 29.31576...</td>\n",
              "    </tr>\n",
              "    <tr>\n",
              "      <th>2</th>\n",
              "      <td>3.0</td>\n",
              "      <td>0.0</td>\n",
              "      <td>None</td>\n",
              "      <td>8.0</td>\n",
              "      <td>Dhaualagiri</td>\n",
              "      <td>62.0</td>\n",
              "      <td>Myagdi</td>\n",
              "      <td>30.03</td>\n",
              "      <td>28.54</td>\n",
              "      <td>636.0</td>\n",
              "      <td>1028.0</td>\n",
              "      <td>45986.0</td>\n",
              "      <td>47.5</td>\n",
              "      <td>7.27</td>\n",
              "      <td>12.56</td>\n",
              "      <td>109598.0</td>\n",
              "      <td>9035.0</td>\n",
              "      <td>9033.0</td>\n",
              "      <td>18068.0</td>\n",
              "      <td>273.0</td>\n",
              "      <td>15.1096</td>\n",
              "      <td>2.490921</td>\n",
              "      <td>34.84</td>\n",
              "      <td>0.0</td>\n",
              "      <td>83.461955</td>\n",
              "      <td>28.552960</td>\n",
              "      <td>POLYGON ((83.50688 28.79306, 83.51024 28.78809...</td>\n",
              "    </tr>\n",
              "    <tr>\n",
              "      <th>3</th>\n",
              "      <td>4.0</td>\n",
              "      <td>0.0</td>\n",
              "      <td>None</td>\n",
              "      <td>8.0</td>\n",
              "      <td>Dhaualagiri</td>\n",
              "      <td>63.0</td>\n",
              "      <td>Parbat</td>\n",
              "      <td>21.84</td>\n",
              "      <td>24.62</td>\n",
              "      <td>627.0</td>\n",
              "      <td>1013.0</td>\n",
              "      <td>45289.0</td>\n",
              "      <td>26.2</td>\n",
              "      <td>6.11</td>\n",
              "      <td>17.47</td>\n",
              "      <td>145657.0</td>\n",
              "      <td>11202.0</td>\n",
              "      <td>11280.0</td>\n",
              "      <td>22482.0</td>\n",
              "      <td>369.0</td>\n",
              "      <td>16.4131</td>\n",
              "      <td>2.533349</td>\n",
              "      <td>32.43</td>\n",
              "      <td>0.0</td>\n",
              "      <td>83.680893</td>\n",
              "      <td>28.211019</td>\n",
              "      <td>POLYGON ((83.70261 28.39837, 83.70435 28.39452...</td>\n",
              "    </tr>\n",
              "    <tr>\n",
              "      <th>4</th>\n",
              "      <td>5.0</td>\n",
              "      <td>1.0</td>\n",
              "      <td>Central</td>\n",
              "      <td>1.0</td>\n",
              "      <td>Bagmati</td>\n",
              "      <td>1.0</td>\n",
              "      <td>Bhaktapur</td>\n",
              "      <td>22.58</td>\n",
              "      <td>19.43</td>\n",
              "      <td>854.0</td>\n",
              "      <td>1379.0</td>\n",
              "      <td>61686.0</td>\n",
              "      <td>26.9</td>\n",
              "      <td>3.31</td>\n",
              "      <td>18.25</td>\n",
              "      <td>296705.0</td>\n",
              "      <td>16533.0</td>\n",
              "      <td>15271.0</td>\n",
              "      <td>31804.0</td>\n",
              "      <td>355.0</td>\n",
              "      <td>11.1621</td>\n",
              "      <td>1.196475</td>\n",
              "      <td>21.87</td>\n",
              "      <td>0.0</td>\n",
              "      <td>85.442906</td>\n",
              "      <td>27.677353</td>\n",
              "      <td>POLYGON ((85.52173 27.71822, 85.52359 27.71375...</td>\n",
              "    </tr>\n",
              "    <tr>\n",
              "      <th>...</th>\n",
              "      <td>...</td>\n",
              "      <td>...</td>\n",
              "      <td>...</td>\n",
              "      <td>...</td>\n",
              "      <td>...</td>\n",
              "      <td>...</td>\n",
              "      <td>...</td>\n",
              "      <td>...</td>\n",
              "      <td>...</td>\n",
              "      <td>...</td>\n",
              "      <td>...</td>\n",
              "      <td>...</td>\n",
              "      <td>...</td>\n",
              "      <td>...</td>\n",
              "      <td>...</td>\n",
              "      <td>...</td>\n",
              "      <td>...</td>\n",
              "      <td>...</td>\n",
              "      <td>...</td>\n",
              "      <td>...</td>\n",
              "      <td>...</td>\n",
              "      <td>...</td>\n",
              "      <td>...</td>\n",
              "      <td>...</td>\n",
              "      <td>...</td>\n",
              "      <td>...</td>\n",
              "      <td>...</td>\n",
              "    </tr>\n",
              "    <tr>\n",
              "      <th>70</th>\n",
              "      <td>71.0</td>\n",
              "      <td>5.0</td>\n",
              "      <td>West</td>\n",
              "      <td>14.0</td>\n",
              "      <td>Lumbini</td>\n",
              "      <td>70.0</td>\n",
              "      <td>Arghakhanchi</td>\n",
              "      <td>27.24</td>\n",
              "      <td>27.37</td>\n",
              "      <td>562.0</td>\n",
              "      <td>909.0</td>\n",
              "      <td>40635.0</td>\n",
              "      <td>31.0</td>\n",
              "      <td>7.71</td>\n",
              "      <td>23.48</td>\n",
              "      <td>196873.0</td>\n",
              "      <td>18893.0</td>\n",
              "      <td>18594.0</td>\n",
              "      <td>37487.0</td>\n",
              "      <td>451.0</td>\n",
              "      <td>12.0308</td>\n",
              "      <td>2.290817</td>\n",
              "      <td>34.43</td>\n",
              "      <td>0.0</td>\n",
              "      <td>83.081325</td>\n",
              "      <td>27.908351</td>\n",
              "      <td>POLYGON ((83.02333 28.10508, 83.02967 28.09924...</td>\n",
              "    </tr>\n",
              "    <tr>\n",
              "      <th>71</th>\n",
              "      <td>72.0</td>\n",
              "      <td>5.0</td>\n",
              "      <td>West</td>\n",
              "      <td>14.0</td>\n",
              "      <td>Lumbini</td>\n",
              "      <td>71.0</td>\n",
              "      <td>Gulmi</td>\n",
              "      <td>27.36</td>\n",
              "      <td>27.42</td>\n",
              "      <td>465.0</td>\n",
              "      <td>752.0</td>\n",
              "      <td>33625.0</td>\n",
              "      <td>43.3</td>\n",
              "      <td>8.26</td>\n",
              "      <td>11.42</td>\n",
              "      <td>279005.0</td>\n",
              "      <td>24865.0</td>\n",
              "      <td>24999.0</td>\n",
              "      <td>49864.0</td>\n",
              "      <td>615.0</td>\n",
              "      <td>12.3335</td>\n",
              "      <td>2.204262</td>\n",
              "      <td>34.42</td>\n",
              "      <td>0.0</td>\n",
              "      <td>83.309026</td>\n",
              "      <td>28.093708</td>\n",
              "      <td>POLYGON ((83.19185 28.26453, 83.20638 28.25558...</td>\n",
              "    </tr>\n",
              "    <tr>\n",
              "      <th>72</th>\n",
              "      <td>73.0</td>\n",
              "      <td>5.0</td>\n",
              "      <td>West</td>\n",
              "      <td>14.0</td>\n",
              "      <td>Lumbini</td>\n",
              "      <td>73.0</td>\n",
              "      <td>Nawalparasi</td>\n",
              "      <td>26.01</td>\n",
              "      <td>27.99</td>\n",
              "      <td>716.0</td>\n",
              "      <td>1157.0</td>\n",
              "      <td>51742.0</td>\n",
              "      <td>38.9</td>\n",
              "      <td>8.09</td>\n",
              "      <td>13.11</td>\n",
              "      <td>638836.0</td>\n",
              "      <td>52014.0</td>\n",
              "      <td>51413.0</td>\n",
              "      <td>103427.0</td>\n",
              "      <td>706.0</td>\n",
              "      <td>6.8261</td>\n",
              "      <td>1.105135</td>\n",
              "      <td>36.25</td>\n",
              "      <td>0.0</td>\n",
              "      <td>83.955312</td>\n",
              "      <td>27.633575</td>\n",
              "      <td>POLYGON ((84.10302 27.86387, 84.09755 27.85927...</td>\n",
              "    </tr>\n",
              "    <tr>\n",
              "      <th>73</th>\n",
              "      <td>74.0</td>\n",
              "      <td>5.0</td>\n",
              "      <td>West</td>\n",
              "      <td>14.0</td>\n",
              "      <td>Lumbini</td>\n",
              "      <td>74.0</td>\n",
              "      <td>Palpa</td>\n",
              "      <td>28.42</td>\n",
              "      <td>25.23</td>\n",
              "      <td>609.0</td>\n",
              "      <td>985.0</td>\n",
              "      <td>44031.0</td>\n",
              "      <td>35.9</td>\n",
              "      <td>7.25</td>\n",
              "      <td>20.93</td>\n",
              "      <td>258842.0</td>\n",
              "      <td>22180.0</td>\n",
              "      <td>21734.0</td>\n",
              "      <td>43914.0</td>\n",
              "      <td>496.0</td>\n",
              "      <td>11.2948</td>\n",
              "      <td>1.916227</td>\n",
              "      <td>29.18</td>\n",
              "      <td>0.0</td>\n",
              "      <td>83.625682</td>\n",
              "      <td>27.817122</td>\n",
              "      <td>POLYGON ((83.37988 27.95869, 83.37875 27.95583...</td>\n",
              "    </tr>\n",
              "    <tr>\n",
              "      <th>74</th>\n",
              "      <td>75.0</td>\n",
              "      <td>5.0</td>\n",
              "      <td>West</td>\n",
              "      <td>14.0</td>\n",
              "      <td>Lumbini</td>\n",
              "      <td>75.0</td>\n",
              "      <td>Rupandehi</td>\n",
              "      <td>20.10</td>\n",
              "      <td>26.15</td>\n",
              "      <td>695.0</td>\n",
              "      <td>1123.0</td>\n",
              "      <td>50210.0</td>\n",
              "      <td>37.7</td>\n",
              "      <td>7.30</td>\n",
              "      <td>2.50</td>\n",
              "      <td>873314.0</td>\n",
              "      <td>65667.0</td>\n",
              "      <td>65781.0</td>\n",
              "      <td>131448.0</td>\n",
              "      <td>597.0</td>\n",
              "      <td>4.5417</td>\n",
              "      <td>0.683603</td>\n",
              "      <td>35.61</td>\n",
              "      <td>0.0</td>\n",
              "      <td>83.391548</td>\n",
              "      <td>27.576497</td>\n",
              "      <td>POLYGON ((83.30704 27.76594, 83.31587 27.76234...</td>\n",
              "    </tr>\n",
              "  </tbody>\n",
              "</table>\n",
              "<p>75 rows × 27 columns</p>\n",
              "</div>"
            ],
            "text/plain": [
              "      id  id_1  ...        lat                                           geometry\n",
              "0    1.0   0.0  ...  28.347313  POLYGON ((83.10834 28.62020, 83.10560 28.60976...\n",
              "1    2.0   0.0  ...  28.981165  POLYGON ((83.99726 29.31675, 84.00000 29.31576...\n",
              "2    3.0   0.0  ...  28.552960  POLYGON ((83.50688 28.79306, 83.51024 28.78809...\n",
              "3    4.0   0.0  ...  28.211019  POLYGON ((83.70261 28.39837, 83.70435 28.39452...\n",
              "4    5.0   1.0  ...  27.677353  POLYGON ((85.52173 27.71822, 85.52359 27.71375...\n",
              "..   ...   ...  ...        ...                                                ...\n",
              "70  71.0   5.0  ...  27.908351  POLYGON ((83.02333 28.10508, 83.02967 28.09924...\n",
              "71  72.0   5.0  ...  28.093708  POLYGON ((83.19185 28.26453, 83.20638 28.25558...\n",
              "72  73.0   5.0  ...  27.633575  POLYGON ((84.10302 27.86387, 84.09755 27.85927...\n",
              "73  74.0   5.0  ...  27.817122  POLYGON ((83.37988 27.95869, 83.37875 27.95583...\n",
              "74  75.0   5.0  ...  27.576497  POLYGON ((83.30704 27.76594, 83.31587 27.76234...\n",
              "\n",
              "[75 rows x 27 columns]"
            ]
          },
          "metadata": {
            "tags": []
          },
          "execution_count": 38
        }
      ]
    },
    {
      "cell_type": "markdown",
      "metadata": {
        "id": "WqIuItO4C2nS",
        "colab_type": "text"
      },
      "source": [
        "- DepEcProv:  Deprivation in economic provisioning\n",
        "- PovIndex:\t  Human Poverty Index\n",
        "- PCInc:\t    Per Capita Income\n",
        "- PCIncPPP:\t  Per Capita Income PPP\n",
        "- PCIncMP:  \tPer capita income, Rs. at market price\n",
        "- MalKids:\t  Percentage of children under age five who are malnourished\n",
        "- Lif40:\t    Percentage of People not expected to survive age 40\n",
        "- NoSafH20:  \tPercentage without safe water\n",
        "- Population:\tPopulation\n",
        "- BoyG1_5:\t  Number of Boys Enrolled in Grade 1-5 (2012-2013)\n",
        "- GirlG1_5:\t  Number of Girls Enrolled in Grade 1-5 (2012-2013)\n",
        "- KIDS1_5:\t  Number of Children Enrolled in Grade 1-5 (2012-2013)\n",
        "- SchoolCnt: \tNumber of Schools (2012-2013)\n",
        "- SCHLPKID:\t  Number of Schools per child (in thousands) (2012-2013)\n",
        "- SCHLPPOP:\t  Number of Schools per population (in thousands) (2012-2013)\n",
        "- AD_ILLIT:\t  Adult illiteracy rate (2011)\n",
        "- AD_ILGT50:  Dummy variable with value of 1 if adult illiteracy rate >50% (2011)\n",
        "- VotNum:   \tNumber of Voters (lunar years 2047-2063, approx. 1991 to 2006)\n",
        "- TotEcFMS: \tTotal economy including financial intermediation service indirectly measured (total value added)\n",
        "- XXCAmt:\t    Project Sector Committed Amount: XX = sector (see above)\tProject Data from AidData Aggregated to District\n",
        "- XXDAmt:\t    Project Sector Distributed Amount: XX = sector: Agriculture, Business Banking, Communication, Conflict Resolution, Budget Support + Finance, Education, Energy, Environment, Forestry, Gov + Civil Society, Health, Humanitarian Aid, Industry, Multi-Sector, Social Infrastructure, Tourism, Transport + Storage, Water Sanitation, Total"
      ]
    },
    {
      "cell_type": "markdown",
      "metadata": {
        "id": "TEtSBVyCYphT",
        "colab_type": "text"
      },
      "source": [
        "## Plot choroplet map"
      ]
    },
    {
      "cell_type": "code",
      "metadata": {
        "id": "4kNqD87nCwO-",
        "colab_type": "code",
        "colab": {
          "base_uri": "https://localhost:8080/",
          "height": 244
        },
        "outputId": "87713d43-2dda-48a5-8c2f-6f5fe738cf55"
      },
      "source": [
        "fig, ax = plt.subplots(figsize=(6,4))\n",
        "df.plot(column=\"pcincppp\", ax=ax)\n",
        "plt.tight_layout()\n",
        "plt.show()"
      ],
      "execution_count": 39,
      "outputs": [
        {
          "output_type": "display_data",
          "data": {
            "image/png": "[encoded data removed]",
            "text/plain": [
              "<Figure size 432x288 with 1 Axes>"
            ]
          },
          "metadata": {
            "tags": []
          }
        }
      ]
    },
    {
      "cell_type": "markdown",
      "metadata": {
        "id": "-p3UuGmDZSUG",
        "colab_type": "text"
      },
      "source": [
        "## Spatial Weights and Spatial Lag"
      ]
    },
    {
      "cell_type": "code",
      "metadata": {
        "id": "yZYyk0rTCxqF",
        "colab_type": "code",
        "colab": {
          "base_uri": "https://localhost:8080/",
          "height": 35
        },
        "outputId": "8271057d-9047-4370-9c51-56268328de6a"
      },
      "source": [
        "# Spatial weights\n",
        "w = Queen.from_dataframe(df, idVariable=\"id\" )\n",
        "w.transform = \"R\"\n",
        "w"
      ],
      "execution_count": 40,
      "outputs": [
        {
          "output_type": "execute_result",
          "data": {
            "text/plain": [
              "<libpysal.weights.contiguity.Queen at 0x7f0179ddb390>"
            ]
          },
          "metadata": {
            "tags": []
          },
          "execution_count": 40
        }
      ]
    },
    {
      "cell_type": "code",
      "metadata": {
        "id": "KG_xOVEGZ4_W",
        "colab_type": "code",
        "colab": {}
      },
      "source": [
        "# Spatial lag\n",
        "df[\"w_pcincppp\"] = weights.lag_spatial(w, df[\"pcincppp\"])"
      ],
      "execution_count": 0,
      "outputs": []
    },
    {
      "cell_type": "code",
      "metadata": {
        "id": "qyULsiRgcA7o",
        "colab_type": "code",
        "colab": {
          "base_uri": "https://localhost:8080/",
          "height": 121
        },
        "outputId": "457bb283-372a-4959-8040-20b358e80111"
      },
      "source": [
        "df[\"w_pcincppp\"].head()"
      ],
      "execution_count": 42,
      "outputs": [
        {
          "output_type": "execute_result",
          "data": {
            "text/plain": [
              "0     816.500000\n",
              "1    1744.666667\n",
              "2    1436.714286\n",
              "3    1025.800000\n",
              "4    2019.000000\n",
              "Name: w_pcincppp, dtype: float64"
            ]
          },
          "metadata": {
            "tags": []
          },
          "execution_count": 42
        }
      ]
    },
    {
      "cell_type": "code",
      "metadata": {
        "id": "XeJJ9kfwcCpc",
        "colab_type": "code",
        "colab": {
          "base_uri": "https://localhost:8080/",
          "height": 121
        },
        "outputId": "33254e8c-0cc4-4d60-ad86-1074b7e670c7"
      },
      "source": [
        "df[\"pcincppp\"].head()"
      ],
      "execution_count": 43,
      "outputs": [
        {
          "output_type": "execute_result",
          "data": {
            "text/plain": [
              "0     573.0\n",
              "1    1922.0\n",
              "2    1028.0\n",
              "3    1013.0\n",
              "4    1379.0\n",
              "Name: pcincppp, dtype: float64"
            ]
          },
          "metadata": {
            "tags": []
          },
          "execution_count": 43
        }
      ]
    },
    {
      "cell_type": "markdown",
      "metadata": {
        "id": "w3GpmdEWcM5Q",
        "colab_type": "text"
      },
      "source": [
        "## Global Spatial Autocorrelation\n"
      ]
    },
    {
      "cell_type": "code",
      "metadata": {
        "id": "1fsZnNPYZ4yU",
        "colab_type": "code",
        "colab": {
          "base_uri": "https://localhost:8080/",
          "height": 35
        },
        "outputId": "ba241356-8fc2-4567-93b7-386096440732"
      },
      "source": [
        "# calculate global Moran\n",
        "y = df[\"pcincppp\"]\n",
        "moran = Moran(y, w)\n",
        "moran.I"
      ],
      "execution_count": 44,
      "outputs": [
        {
          "output_type": "execute_result",
          "data": {
            "text/plain": [
              "0.38453969348086553"
            ]
          },
          "metadata": {
            "tags": []
          },
          "execution_count": 44
        }
      ]
    },
    {
      "cell_type": "code",
      "metadata": {
        "id": "hh8dso31CxcZ",
        "colab_type": "code",
        "colab": {
          "base_uri": "https://localhost:8080/",
          "height": 35
        },
        "outputId": "09ea661a-1c8f-4330-cb09-6b8e9a2734a5"
      },
      "source": [
        "# compute p-value (via simulation)\n",
        "moran.p_sim"
      ],
      "execution_count": 45,
      "outputs": [
        {
          "output_type": "execute_result",
          "data": {
            "text/plain": [
              "0.001"
            ]
          },
          "metadata": {
            "tags": []
          },
          "execution_count": 45
        }
      ]
    },
    {
      "cell_type": "code",
      "metadata": {
        "id": "KORjYK-AcxZP",
        "colab_type": "code",
        "colab": {
          "base_uri": "https://localhost:8080/",
          "height": 305
        },
        "outputId": "6402bf08-77ab-4e23-dbea-a6de3fe37824"
      },
      "source": [
        "fig, ax = moran_scatterplot(moran, aspect_equal=True)\n",
        "plt.savefig(\"scatter-moran.png\")\n",
        "plt.show()"
      ],
      "execution_count": 46,
      "outputs": [
        {
          "output_type": "display_data",
          "data": {
            "image/png": "[encoded data removed]",
            "text/plain": [
              "<Figure size 504x504 with 1 Axes>"
            ]
          },
          "metadata": {
            "tags": []
          }
        }
      ]
    },
    {
      "cell_type": "markdown",
      "metadata": {
        "id": "yz3NR9QpdMHe",
        "colab_type": "text"
      },
      "source": [
        "## Local Spatial Autocorrelation\n"
      ]
    },
    {
      "cell_type": "code",
      "metadata": {
        "id": "LxO-2g70dNsY",
        "colab_type": "code",
        "colab": {}
      },
      "source": [
        "# calculate local Moran\n",
        "m_local = Moran_Local(y, w)"
      ],
      "execution_count": 0,
      "outputs": []
    },
    {
      "cell_type": "code",
      "metadata": {
        "id": "Bv9WrDANdffs",
        "colab_type": "code",
        "colab": {
          "base_uri": "https://localhost:8080/",
          "height": 263
        },
        "outputId": "b53081dd-9405-4cbf-d6d3-56a3333720c5"
      },
      "source": [
        "# Plot\n",
        "fig, ax = moran_scatterplot(m_local, p=0.05)\n",
        "ax.set_xlabel('Income per capita PPP')\n",
        "ax.set_ylabel('Spatial lag of Income per capita PPP')\n",
        "plt.show()"
      ],
      "execution_count": 48,
      "outputs": [
        {
          "output_type": "display_data",
          "data": {
            "image/png": "[encoded data removed]",
            "text/plain": [
              "<Figure size 504x504 with 1 Axes>"
            ]
          },
          "metadata": {
            "tags": []
          }
        }
      ]
    },
    {
      "cell_type": "code",
      "metadata": {
        "id": "9gPVF4TdcxJE",
        "colab_type": "code",
        "colab": {
          "base_uri": "https://localhost:8080/",
          "height": 199
        },
        "outputId": "113824f3-ea2b-49ba-8b52-427674d6350f"
      },
      "source": [
        "# Map\n",
        "fig, ax = plt.subplots(figsize=(6,4))\n",
        "lisa_cluster(m_local, df, p=0.05, ax=ax)\n",
        "plt.show()"
      ],
      "execution_count": 49,
      "outputs": [
        {
          "output_type": "display_data",
          "data": {
            "image/png": "[encoded data removed]",
            "text/plain": [
              "<Figure size 432x288 with 1 Axes>"
            ]
          },
          "metadata": {
            "tags": []
          }
        }
      ]
    },
    {
      "cell_type": "code",
      "metadata": {
        "id": "b-SC1Vs9cxBp",
        "colab_type": "code",
        "colab": {}
      },
      "source": [
        ""
      ],
      "execution_count": 0,
      "outputs": []
    }
  ]
}